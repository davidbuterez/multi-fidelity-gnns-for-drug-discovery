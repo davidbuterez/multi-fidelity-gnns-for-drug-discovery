{
 "cells": [
  {
   "cell_type": "code",
   "execution_count": 1,
   "metadata": {},
   "outputs": [],
   "source": [
    "import pandas as pd\n",
    "import numpy as np\n",
    "from pathlib import Path\n",
    "from tqdm.auto import tqdm"
   ]
  },
  {
   "cell_type": "code",
   "execution_count": 2,
   "metadata": {},
   "outputs": [],
   "source": [
    "dr_dirs = list(set(['/'.join(str(p).split('/')[:-2]) for p in Path('.../DR_embs_splits').rglob('*.csv') if 'ipynb' not in str(p)]))"
   ]
  },
  {
   "cell_type": "code",
   "execution_count": 4,
   "metadata": {},
   "outputs": [],
   "source": [
    "template = 'python .../{algo}.py --path {path} --smiles-column {smiles_column} --DR-label {dr_label} --SD-label {sd_label} --SD-EMBS-label {sd_embs_label} --type {type} --save-path {save_path}'"
   ]
  },
  {
   "cell_type": "code",
   "execution_count": 6,
   "metadata": {},
   "outputs": [
    {
     "data": {
      "application/vnd.jupyter.widget-view+json": {
       "model_id": "157411cb30e04b43889d82dce8411157",
       "version_major": 2,
       "version_minor": 0
      },
      "text/plain": [
       "HBox(children=(FloatProgress(value=0.0, max=37.0), HTML(value='')))"
      ]
     },
     "metadata": {},
     "output_type": "display_data"
    },
    {
     "name": "stdout",
     "output_type": "stream",
     "text": [
      "\n"
     ]
    }
   ],
   "source": [
    "SMILES_COL = 'neut-smiles'\n",
    "SD_LABEL = 'SD'\n",
    "SD_EMBS_LABEL = 'Embeddings'\n",
    "\n",
    "for dr_dir in tqdm(dr_dirs):\n",
    "    dr_sd_name = dr_dir.split('/')[-1]\n",
    "\n",
    "    for algo in ['rf', 'svm']:\n",
    "        for itr in range(5):\n",
    "            data_path = f'{dr_dir}/{itr}'\n",
    "\n",
    "            out_dir = f'.../{dr_sd_name}/{itr}/'\n",
    "            Path(out_dir).mkdir(exist_ok=True, parents=True)\n",
    "\n",
    "            task_type = 'regression'\n",
    "            dr_label = 'DR'\n",
    "            \n",
    "            script = template.format(algo=algo, path=data_path, smiles_column=SMILES_COL, dr_label=dr_label, sd_label=SD_LABEL, sd_embs_label=SD_EMBS_LABEL, type=task_type, save_path=out_dir)\n",
    "\n",
    "            with open(f'.../shallow_training_scripts/{dr_sd_name}_{algo}_{itr}.txt', 'w') as f:\n",
    "                f.write(script)\n"
   ]
  },
  {
   "cell_type": "code",
   "execution_count": null,
   "metadata": {},
   "outputs": [],
   "source": []
  }
 ],
 "metadata": {
  "kernelspec": {
   "display_name": "Python 3",
   "language": "python",
   "name": "python3"
  },
  "language_info": {
   "name": "python",
   "version": "3.9.7 (default, Jun 22 2022, 20:11:26) \n[GCC 11.2.0]"
  },
  "orig_nbformat": 4,
  "vscode": {
   "interpreter": {
    "hash": "916dbcbb3f70747c44a77c7bcd40155683ae19c65e1c03b4aa3499c5328201f1"
   }
  }
 },
 "nbformat": 4,
 "nbformat_minor": 2
}
